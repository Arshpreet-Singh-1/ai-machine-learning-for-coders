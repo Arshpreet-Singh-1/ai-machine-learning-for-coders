{
  "nbformat": 4,
  "nbformat_minor": 0,
  "metadata": {
    "colab": {
      "name": "3_1_Recognizing_Clothing_Items_Implementing_CNN.ipynb",
      "provenance": [],
      "authorship_tag": "ABX9TyOzuUweM399vP4bJ4XVBG4K",
      "include_colab_link": true
    },
    "kernelspec": {
      "name": "python3",
      "display_name": "Python 3"
    },
    "language_info": {
      "name": "python"
    },
    "accelerator": "GPU",
    "gpuClass": "standard"
  },
  "cells": [
    {
      "cell_type": "markdown",
      "metadata": {
        "id": "view-in-github",
        "colab_type": "text"
      },
      "source": [
        "<a href=\"https://colab.research.google.com/github/Arshpreet-Singh-1/ai-machine-learning-for-coders/blob/main/3_1_Recognizing_Clothing_Items_Implementing_CNN.ipynb\" target=\"_parent\"><img src=\"https://colab.research.google.com/assets/colab-badge.svg\" alt=\"Open In Colab\"/></a>"
      ]
    },
    {
      "cell_type": "markdown",
      "source": [
        "# 1. Imports"
      ],
      "metadata": {
        "id": "qYisaJ4aOSdg"
      }
    },
    {
      "cell_type": "code",
      "execution_count": 1,
      "metadata": {
        "colab": {
          "base_uri": "https://localhost:8080/"
        },
        "id": "BqdermML80vi",
        "outputId": "a4bec7bb-aa75-4261-ef1a-3904d5748277"
      },
      "outputs": [
        {
          "output_type": "stream",
          "name": "stdout",
          "text": [
            "2.8.2\n"
          ]
        }
      ],
      "source": [
        "import tensorflow as tf\n",
        "print(tf.__version__)"
      ]
    },
    {
      "cell_type": "markdown",
      "source": [
        "# 2. Training and Test Dataset"
      ],
      "metadata": {
        "id": "Aqc2TZjfOV9h"
      }
    },
    {
      "cell_type": "code",
      "source": [
        "mnist = tf.keras.datasets.fashion_mnist\n",
        "(training_images , training_labels ) , (test_images , test_labels ) = mnist.load_data()\n",
        "\n",
        "training_images = training_images.reshape(60000,28,28,1)\n",
        "training_images = training_images/255.0\n",
        "test_images = test_images.reshape(10000,28,28,1)\n",
        "test_images = test_images/255.0"
      ],
      "metadata": {
        "id": "knhW7dUwLyMw"
      },
      "execution_count": 2,
      "outputs": []
    },
    {
      "cell_type": "markdown",
      "source": [
        "# 3. Build and Compile Model"
      ],
      "metadata": {
        "id": "HXsbYlYtOb84"
      }
    },
    {
      "cell_type": "code",
      "source": [
        "model = tf.keras.models.Sequential([\n",
        "                                    tf.keras.layers.Conv2D(64 , (3,3) , activation = 'relu' , input_shape = (28,28,1)),\n",
        "                                    tf.keras.layers.MaxPooling2D(2,2),\n",
        "                                    tf.keras.layers.Conv2D(64 , (3,3) , activation = 'relu'),\n",
        "                                    tf.keras.layers.MaxPooling2D(2,2),\n",
        "                                    tf.keras.layers.Flatten(),\n",
        "                                    tf.keras.layers.Dense(units = 128 , activation = 'relu'),\n",
        "                                    tf.keras.layers.Dense(units = 10 , activation = 'softmax')\n",
        "])\n",
        "\n",
        "model.compile(optimizer = 'adam' , loss = 'sparse_categorical_crossentropy' , metrics = ['accuracy'])"
      ],
      "metadata": {
        "id": "bKlb4A5-MQz4"
      },
      "execution_count": 3,
      "outputs": []
    },
    {
      "cell_type": "markdown",
      "source": [
        "# 4. Callback on Training"
      ],
      "metadata": {
        "id": "-MwHohXUOfdf"
      }
    },
    {
      "cell_type": "code",
      "source": [
        "class myCallback(tf.keras.callbacks.Callback):\n",
        "  def on_epoch_end(self , epoch , logs = {}):\n",
        "    if(logs.get('accuracy')>0.95):\n",
        "      print(\"\\nReached 95% accuracy , so cancelling training ..\")\n",
        "      self.model.stop_training = True\n",
        "\n",
        "callbacks = myCallback()"
      ],
      "metadata": {
        "id": "LnpEUv-SM-L4"
      },
      "execution_count": 4,
      "outputs": []
    },
    {
      "cell_type": "markdown",
      "source": [
        "# 5. Fitting Model"
      ],
      "metadata": {
        "id": "BB8aX9AmOi83"
      }
    },
    {
      "cell_type": "code",
      "source": [
        "model.fit(training_images , training_labels , epochs = 50 , callbacks = [callbacks])"
      ],
      "metadata": {
        "colab": {
          "base_uri": "https://localhost:8080/"
        },
        "id": "NwJC0YnqNgyg",
        "outputId": "59aafc1e-9279-4e3d-963e-d7ca0e3d7b4a"
      },
      "execution_count": 5,
      "outputs": [
        {
          "output_type": "stream",
          "name": "stdout",
          "text": [
            "Epoch 1/50\n",
            "1875/1875 [==============================] - 9s 3ms/step - loss: 0.4354 - accuracy: 0.8420\n",
            "Epoch 2/50\n",
            "1875/1875 [==============================] - 5s 3ms/step - loss: 0.2903 - accuracy: 0.8931\n",
            "Epoch 3/50\n",
            "1875/1875 [==============================] - 6s 3ms/step - loss: 0.2451 - accuracy: 0.9096\n",
            "Epoch 4/50\n",
            "1875/1875 [==============================] - 5s 3ms/step - loss: 0.2146 - accuracy: 0.9206\n",
            "Epoch 5/50\n",
            "1875/1875 [==============================] - 5s 3ms/step - loss: 0.1867 - accuracy: 0.9307\n",
            "Epoch 6/50\n",
            "1875/1875 [==============================] - 6s 3ms/step - loss: 0.1652 - accuracy: 0.9367\n",
            "Epoch 7/50\n",
            "1875/1875 [==============================] - 6s 3ms/step - loss: 0.1440 - accuracy: 0.9461\n",
            "Epoch 8/50\n",
            "1865/1875 [============================>.] - ETA: 0s - loss: 0.1276 - accuracy: 0.9523\n",
            "Reached 95% accuracy , so cancelling training ..\n",
            "1875/1875 [==============================] - 6s 3ms/step - loss: 0.1276 - accuracy: 0.9523\n"
          ]
        },
        {
          "output_type": "execute_result",
          "data": {
            "text/plain": [
              "<keras.callbacks.History at 0x7f64202a48d0>"
            ]
          },
          "metadata": {},
          "execution_count": 5
        }
      ]
    },
    {
      "cell_type": "markdown",
      "source": [
        "# 6. Evaluating Model"
      ],
      "metadata": {
        "id": "Eo8L2xUrOtW5"
      }
    },
    {
      "cell_type": "code",
      "source": [
        "model.evaluate(test_images , test_labels)"
      ],
      "metadata": {
        "colab": {
          "base_uri": "https://localhost:8080/"
        },
        "id": "Z6puWsDENymi",
        "outputId": "f41dff19-2585-487f-9bdb-5147c92e7b04"
      },
      "execution_count": 6,
      "outputs": [
        {
          "output_type": "stream",
          "name": "stdout",
          "text": [
            "313/313 [==============================] - 1s 3ms/step - loss: 0.2626 - accuracy: 0.9141\n"
          ]
        },
        {
          "output_type": "execute_result",
          "data": {
            "text/plain": [
              "[0.26258182525634766, 0.9140999913215637]"
            ]
          },
          "metadata": {},
          "execution_count": 6
        }
      ]
    },
    {
      "cell_type": "markdown",
      "source": [
        "# 7. Exploring Model Output"
      ],
      "metadata": {
        "id": "Ob_sHpMKOwRI"
      }
    },
    {
      "cell_type": "code",
      "source": [
        "classification = model.predict(test_images)\n",
        "print(classification[0])\n",
        "print(test_labels[0])"
      ],
      "metadata": {
        "colab": {
          "base_uri": "https://localhost:8080/"
        },
        "id": "xc43LumNN3Ai",
        "outputId": "99fa4578-7914-49a1-874a-7f5c16a25715"
      },
      "execution_count": 7,
      "outputs": [
        {
          "output_type": "stream",
          "name": "stdout",
          "text": [
            "[4.4963447e-13 4.1078896e-14 1.5969985e-09 2.2935503e-12 1.3491802e-13\n",
            " 7.1603125e-08 2.1077343e-11 1.5116179e-06 1.0108748e-09 9.9999845e-01]\n",
            "9\n"
          ]
        }
      ]
    },
    {
      "cell_type": "markdown",
      "source": [
        "# 8. Inspecting Model"
      ],
      "metadata": {
        "id": "NWjIhs6cOzp3"
      }
    },
    {
      "cell_type": "code",
      "source": [
        "model.summary()"
      ],
      "metadata": {
        "colab": {
          "base_uri": "https://localhost:8080/"
        },
        "id": "wumLZu9KOCj5",
        "outputId": "65dbd0bf-af18-4c60-c9c1-82ee61a614b4"
      },
      "execution_count": 8,
      "outputs": [
        {
          "output_type": "stream",
          "name": "stdout",
          "text": [
            "Model: \"sequential\"\n",
            "_________________________________________________________________\n",
            " Layer (type)                Output Shape              Param #   \n",
            "=================================================================\n",
            " conv2d (Conv2D)             (None, 26, 26, 64)        640       \n",
            "                                                                 \n",
            " max_pooling2d (MaxPooling2D  (None, 13, 13, 64)       0         \n",
            " )                                                               \n",
            "                                                                 \n",
            " conv2d_1 (Conv2D)           (None, 11, 11, 64)        36928     \n",
            "                                                                 \n",
            " max_pooling2d_1 (MaxPooling  (None, 5, 5, 64)         0         \n",
            " 2D)                                                             \n",
            "                                                                 \n",
            " flatten (Flatten)           (None, 1600)              0         \n",
            "                                                                 \n",
            " dense (Dense)               (None, 128)               204928    \n",
            "                                                                 \n",
            " dense_1 (Dense)             (None, 10)                1290      \n",
            "                                                                 \n",
            "=================================================================\n",
            "Total params: 243,786\n",
            "Trainable params: 243,786\n",
            "Non-trainable params: 0\n",
            "_________________________________________________________________\n"
          ]
        }
      ]
    }
  ]
}